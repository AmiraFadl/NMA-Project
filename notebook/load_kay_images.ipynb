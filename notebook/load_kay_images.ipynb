{
  "cells": [
    {
      "cell_type": "markdown",
      "metadata": {
        "id": "view-in-github",
        "colab_type": "text"
      },
      "source": [
        "<a href=\"https://colab.research.google.com/github/AmiraFadl/NMA-Project/blob/main/notebook/load_kay_images.ipynb\" target=\"_parent\"><img src=\"https://colab.research.google.com/assets/colab-badge.svg\" alt=\"Open In Colab\"/></a>"
      ]
    },
    {
      "cell_type": "code",
      "execution_count": null,
      "metadata": {
        "id": "97C2Jmt1oAhY"
      },
      "outputs": [],
      "source": [
        "import os\n",
        "import numpy as np\n",
        "import matplotlib.pyplot as plt"
      ]
    },
    {
      "cell_type": "code",
      "execution_count": null,
      "metadata": {
        "cellView": "form",
        "id": "qZoFEBMMoAhe",
        "colab": {
          "base_uri": "https://localhost:8080/"
        },
        "outputId": "80a0680d-e406-47af-c205-e7e475084e36"
      },
      "outputs": [
        {
          "output_type": "stream",
          "name": "stdout",
          "text": [
            "Downloading kay_labels.npy...\n",
            "Download kay_labels.npy completed!\n",
            "Downloading kay_labels_val.npy...\n",
            "Download kay_labels_val.npy completed!\n",
            "Downloading kay_images.npz...\n",
            "Download kay_images.npz completed!\n"
          ]
        }
      ],
      "source": [
        "# @title Download the data\n",
        "\n",
        "import os, requests, tarfile\n",
        "\n",
        "fnames = [\"kay_labels.npy\", \"kay_labels_val.npy\", \"kay_images.npz\"]\n",
        "urls = [\"https://osf.io/r638s/download\",\n",
        "        \"https://osf.io/yqb3e/download\",\n",
        "        \"https://osf.io/ymnjv/download\"]\n",
        "\n",
        "for fname, url in zip(fnames, urls):\n",
        "  if not os.path.isfile(fname):\n",
        "    try:\n",
        "      r = requests.get(url)\n",
        "    except requests.ConnectionError:\n",
        "      print(\"!!! Failed to download data !!!\")\n",
        "    else:\n",
        "      if r.status_code != requests.codes.ok:\n",
        "        print(\"!!! Failed to download data !!!\")\n",
        "      else:\n",
        "        print(f\"Downloading {fname}...\")\n",
        "        with open(fname, \"wb\") as fid:\n",
        "          fid.write(r.content)\n",
        "        print(f\"Download {fname} completed!\")"
      ]
    },
    {
      "cell_type": "code",
      "execution_count": null,
      "metadata": {
        "id": "3CmJMXOsoAhg"
      },
      "outputs": [],
      "source": [
        "with np.load(fname) as dobj:\n",
        "  dat = dict(**dobj)\n",
        "  dat2 = dict(**dobj)\n",
        "labels = np.load('kay_labels.npy')\n",
        "labels_backup = np.load('kay_labels.npy')\n",
        "val_labels = np.load('kay_labels_val.npy')\n",
        "val_labels_backup = np.load('kay_labels_val.npy')"
      ]
    },
    {
      "cell_type": "markdown",
      "metadata": {
        "id": "esaIPvwGoAhh"
      },
      "source": [
        "\n",
        "`labels` is a 4 by stim array of class names:  \n",
        "- row 3 has the labels predicted by a deep neural network (DNN) trained on Imagenet\n",
        "- rows 0-2 correspond to different levels of the wordnet hierarchy for the DNN predictions"
      ]
    },
    {
      "cell_type": "code",
      "execution_count": null,
      "metadata": {
        "colab": {
          "base_uri": "https://localhost:8080/"
        },
        "id": "S3mJcjzRoAhj",
        "outputId": "96b019d3-a87c-4b60-e032-617f04afef98"
      },
      "outputs": [
        {
          "output_type": "stream",
          "name": "stdout",
          "text": [
            "['artifact' 'entity' 'animal' 'geological formation' 'fruit' 'fungus'\n",
            " 'person' 'plant']\n",
            "947\n",
            "new responses to balance 1606\n",
            "new labels to balance 1606\n",
            "New Animate pictures indecies count 803\n",
            "New labels shape (1750,)\n",
            "Animate pictures indecies count 803\n",
            "Inanimate pictures indecies count 947\n",
            "[1 0 1 ... 0 1 1]\n"
          ]
        }
      ],
      "source": [
        "import pandas as pd\n",
        "from operator import indexOf\n",
        "\n",
        "labels_catg =pd.Series(labels[0])\n",
        "labels_catg = labels_catg.unique()\n",
        "\n",
        "print(labels_catg)\n",
        "# animal = []\n",
        "# geo_form = []\n",
        "# i = 0\n",
        "\n",
        "# for i in range(len(labels[0])):\n",
        "#   if labels[0][i] == 'animal':\n",
        "#     animal.append(i)\n",
        "#   if labels[0][i] == 'geological formation':\n",
        "#     geo_form.append(i)  \n",
        "\n",
        "new_categ_labels = np.array(pd.read_csv(\"/content/new_labels_ai.csv\"))\n",
        "new_categ_labels= np.reshape(new_categ_labels, 1749)\n",
        "new_categ_labels =np.insert(new_categ_labels,0, [1])\n",
        "\n",
        "inanimate_only_labels = []\n",
        "\n",
        "for i in range(len(new_categ_labels)):\n",
        "  if new_categ_labels[i] == 0:\n",
        "      inanimate_only_labels.append(i)\n",
        "\n",
        "print(len(inanimate_only_labels))\n",
        "\n",
        "random_inanimate_index = np.random.choice(inanimate_only_labels, 144, replace=False)\n",
        "\n",
        "new_resp_tobalance = np.delete(dat2[\"responses\"],random_inanimate_index , axis=0)\n",
        "new_labels_tobalance = np.delete(new_categ_labels, random_inanimate_index , axis=0, )\n",
        "\n",
        "print(\"new responses to balance\",len(new_resp_tobalance))\n",
        "print(\"new labels to balance\",len(new_labels_tobalance))\n",
        "print(\"New Animate pictures indecies count\", (new_labels_tobalance==0).sum()) \n",
        "\n",
        "\n",
        "# geo_form = np.array(geo_form)\n",
        "# animal = np.array(animal)\n",
        "\n",
        "print(\"New labels shape\", new_categ_labels.shape) \n",
        "print(\"Animate pictures indecies count\", (new_categ_labels==1).sum()) \n",
        "print(\"Inanimate pictures indecies count\", (new_categ_labels==0).sum())   \n",
        "\n",
        "# print(\"animal pictures inecies count\", animal.shape) \n",
        "# print(\"geological formation pictures indecies count\", geo_form.shape)   \n",
        "\n",
        "print(new_categ_labels)"
      ]
    },
    {
      "cell_type": "code",
      "execution_count": null,
      "metadata": {
        "colab": {
          "base_uri": "https://localhost:8080/"
        },
        "id": "OHIs0qxXoAhl",
        "outputId": "0a860f36-4343-48eb-cbf6-cb897a8cf441"
      },
      "outputs": [
        {
          "output_type": "stream",
          "name": "stdout",
          "text": [
            "dict_keys(['stimuli', 'stimuli_test', 'responses', 'responses_test', 'roi', 'roi_names'])\n"
          ]
        }
      ],
      "source": [
        "print(dat.keys())"
      ]
    },
    {
      "cell_type": "markdown",
      "metadata": {
        "id": "mRt-p-L-oAhm"
      },
      "source": [
        "`dat` has the following fields:  \n",
        "- `stimuli`: stim x i x j array of grayscale stimulus images\n",
        "- `stimuli_test`: stim x i x j array of grayscale stimulus images in the test set  \n",
        "- `responses`: stim x voxel array of z-scored BOLD response amplitude\n",
        "- `responses_test`:  stim x voxel array of z-scored BOLD response amplitude in the test set  \n",
        "- `roi`: array of voxel labels\n",
        "- `roi_names`: array of names corresponding to voxel labels"
      ]
    },
    {
      "cell_type": "code",
      "execution_count": null,
      "metadata": {
        "colab": {
          "base_uri": "https://localhost:8080/"
        },
        "id": "9jPTJahGoAhn",
        "outputId": "3031ff5c-656d-41b2-e90a-8fe8bf5c2753"
      },
      "outputs": [
        {
          "output_type": "stream",
          "name": "stdout",
          "text": [
            "(1750, 128, 128)\n",
            "(1750, 8428)\n",
            "(8428,)\n",
            "(8,)\n"
          ]
        }
      ],
      "source": [
        "print(dat[\"stimuli\"].shape)\n",
        "print(dat[\"responses\"].shape) # 8428 voxels amplitudes for each image and they are z-scored (zero mean and one standard deviation)\n",
        "print(dat[\"roi\"].shape) # 8428 voxels labels from 0-7 relating it to regions of intreset which names are stored in roi_names (v1, v2, ...)\n",
        "print(dat[\"roi_names\"].shape)"
      ]
    },
    {
      "cell_type": "code",
      "execution_count": null,
      "metadata": {
        "colab": {
          "base_uri": "https://localhost:8080/"
        },
        "id": "g1tH1Gr2shxA",
        "outputId": "0a422545-f421-4c07-d943-025b7efe427d"
      },
      "outputs": [
        {
          "output_type": "stream",
          "name": "stdout",
          "text": [
            "['Other' 'V1' 'V2' 'V3' 'V3A' 'V3B' 'V4' 'LatOcc']\n"
          ]
        }
      ],
      "source": [
        "print(dat[\"roi_names\"])"
      ]
    },
    {
      "cell_type": "code",
      "execution_count": null,
      "metadata": {
        "id": "mGRpgxWMEkHu",
        "colab": {
          "base_uri": "https://localhost:8080/"
        },
        "outputId": "972eed36-a9cd-4be1-bafe-5437ecf88336"
      },
      "outputs": [
        {
          "output_type": "stream",
          "name": "stdout",
          "text": [
            "mean of V1 responses -4.9205069583629874e-05\n"
          ]
        }
      ],
      "source": [
        "from operator import indexOf\n",
        "\n",
        "\n",
        "# animal_resp = dat[\"responses\"][animal]\n",
        "# geo_form_resp = dat[\"responses\"][geo_form]\n",
        "\n",
        "##################### ANIMATE AND INANIMATE RESPONSES\n",
        "\n",
        "# animate_resp = dat[\"responses\"][animate_index]\n",
        "# inanimate_resp = dat[\"responses\"][inanimate_index]\n",
        "\n",
        "##################\n",
        "\n",
        "# ones = np.ones(400)\n",
        "# zerosa = np.zeros(100)\n",
        "\n",
        "########### extracting indecies of each region \n",
        "roi_arr= dat[\"roi\"].flatten()\n",
        "index_latoc = []\n",
        "index_v1 = []\n",
        "index_v2 = []\n",
        "index_v3= []\n",
        "index_v3a = []\n",
        "index_v3b = []\n",
        "index_v4= []\n",
        "\n",
        "\n",
        "for i in range(len(roi_arr)):\n",
        "  if roi_arr[i] == 1:\n",
        "      index_v1.append(i)\n",
        "  if roi_arr[i] == 2:\n",
        "      index_v2.append(i)\n",
        "  if roi_arr[i] == 3:\n",
        "      index_v3.append(i)\n",
        "  if roi_arr[i] == 4:\n",
        "      index_v3a.append(i)  \n",
        "  if roi_arr[i] == 5:\n",
        "      index_v3b.append(i)       \n",
        "  if roi_arr[i] == 6:\n",
        "      index_v4.append(i)  \n",
        "  if roi_arr[i] == 7:\n",
        "      index_latoc.append(i)  \n",
        "#################3\n",
        "\n",
        "# animal_resp_v1 = animal_resp[:, index_v1]\n",
        "# geo_form_resp_v1 = geo_form_resp[:, index_v1]\n",
        "\n",
        "# animal_resp_v2 = animal_resp[:, index_v2]\n",
        "# geo_form_resp_v2 = geo_form_resp[:, index_v2]\n",
        "\n",
        "# animal_resp_v3 = animal_resp[:, index_v3]\n",
        "# geo_form_resp_v3 = geo_form_resp[:, index_v3]\n",
        "\n",
        "# animal_resp_v4 = animal_resp[:, index_v4]\n",
        "# geo_form_resp_v4 = geo_form_resp[:, index_v4]\n",
        "\n",
        "index_v1 = np.array(index_v1)\n",
        "index_v2 = np.array(index_v2)\n",
        "index_v3 = np.array(index_v3)\n",
        "index_v3a = np.array(index_v3a)\n",
        "index_v3b = np.array(index_v3b)\n",
        "index_v4 = np.array(index_v4)\n",
        "index_latoc = np.array(index_latoc)\n",
        "\n",
        "print(\"V1 indices\", index_v1.shape)\n",
        "print(\"V2 indices\", index_v2.shape)\n",
        "print(\"V3 indices\", index_v3.shape)\n",
        "print(\"V3A indices\", index_v3a.shape)\n",
        "print(\"V3B indices\", index_v3b.shape)\n",
        "print(\"V4 indices\", index_v4.shape)\n",
        "print(\"LatOcc indices\", index_latoc.shape)\n",
        "\n",
        "mean = np.average(new_resp_tobalance)\n",
        "print(\"mean of V1 responses\", mean)\n",
        "\n",
        "# print(\"animal V1 responses\", animal_resp_v1.shape)\n",
        "# print(\"geo_form V1 responses\", geo_form_resp_v1.shape)\n",
        "\n",
        "# print(\"animal V2 responses\", animal_resp_v2.shape)\n",
        "# print(\"geo_form V2 responses\", geo_form_resp_v2.shape)\n",
        "\n",
        "# print(\"animal V3 responses\", animal_resp_v3.shape)\n",
        "# print(\"geo_form V3 responses\", geo_form_resp_v3.shape)\n",
        "\n",
        "# print(\"animal V4 responses\", animal_resp_v4.shape)\n",
        "# print(\"geo_form V4 responses\", geo_form_resp_v4.shape)\n",
        "\n",
        "\n",
        "# animal_resp_labeled = np.concatenate((animal_resp, ones[:, None]), axis =1)\n",
        "# geo_form_resp_labeled = np.concatenate((geo_form_resp, zerosa[:, None]), axis =1)\n",
        "\n",
        "###################################### ANIMATE AND INANIMATE CATEGORIES AFTER MANUAL EXTRACTION AND RELABELING\n",
        "\n",
        "\n",
        "# animate_resp_labeled = np.concatenate((animate_resp, ones[:, None]), axis =1)\n",
        "# inanimate_resp_labeled = np.concatenate((inanimate_resp, zerosa[:, None]), axis =1)\n",
        "\n",
        "\n",
        "########################\n",
        "\n",
        "\n",
        "# difference_test = animal_resp[0:len(geo_form_resp)] - geo_form_resp\n",
        "# # print(indexOf (difference_test ,difference_test.max()))\n",
        "# result = np.where(difference_test == np.amax(difference_test))\n",
        "# print(result[0])\n",
        "\n",
        "\n",
        "\n",
        "\n",
        "# print(animal_resp_labeled.shape)\n",
        "# print(geo_form_resp_labeled.shape)\n",
        "\n",
        "# print(ones.shape)\n",
        "# print(animal_resp.shape) \n",
        "# print(geo_form_resp.shape) \n",
        "\n",
        "################### playing around\n",
        "\n",
        "\n",
        "# x = np.concatenate((animal_resp[:400, :], geo_form_resp[:100, :]), axis = 0 )\n",
        "\n",
        "# y = np.concatenate((ones, zerosa), axis=0) # it is the same in all subsets\n",
        "\n",
        "# x_v1 = np.concatenate((animal_resp_v1[:400, :], geo_form_resp_v1[:100, :]), axis = 0 )\n",
        "\n",
        "# x_v2 = np.concatenate((animal_resp_v2[:400, :], geo_form_resp_v2[:100, :]), axis = 0 )\n",
        "\n",
        "# x_v3 = np.concatenate((animal_resp_v3[:400, :], geo_form_resp_v3[:100, :]), axis = 0 )\n",
        "\n",
        "# x_v4 = np.concatenate((animal_resp_v4[:400, :], geo_form_resp_v4[:100, :]), axis = 0 )\n",
        "\n",
        "########################## real work\n",
        "# from sklearn.model_selection import train_test_split\n",
        "# np.delete(labels[0], np.where(labels[0] == 'plant'))\n",
        "# v1_train, v1_test, y_train, y_test = train_test_split(dat[\"responses\"][:, index_v1], labels[0], test_size=0.40, random_state=42)\n",
        "# v2_train, v2_test = train_test_split(dat[\"responses\"][:, index_v2], test_size=0.40, random_state=42)\n",
        "# v3_train, v3_test = train_test_split(dat[\"responses\"][:, index_v3], test_size=0.40, random_state=42)\n",
        "# v4_train, v4_test = train_test_split(dat[\"responses\"][:, index_v4], test_size=0.40, random_state=42)\n",
        "\n",
        "\n",
        "# clf = svm.SVC(class_weight='balanced', C= 0.0001, probability=True, random_state= 42)\n",
        "\n",
        "# clf_v1 = svm.SVC(class_weight='balanced', C= 0.0001)\n",
        "# clf_v2 = svm.SVC(class_weight='balanced', C= 0.0001)\n",
        "# clf_v3 = svm.SVC(class_weight='balanced', C= 0.0001)\n",
        "# clf_v4 = svm.SVC(class_weight='balanced', C= 0.0001)\n",
        "\n",
        "\n",
        "# clf_v1_all = svm.SVC(decision_function_shape='ovo', class_weight='balanced', C= 0.0001)\n",
        "# clf_v2_all = svm.SVC(decision_function_shape='ovo', class_weight='balanced', C= 0.0001)\n",
        "# clf_v3_all = svm.SVC(decision_function_shape='ovo', class_weight='balanced', C= 0.0001)\n",
        "# clf_v4_all = svm.SVC(decision_function_shape='ovo', class_weight='balanced', C= 0.0001)\n",
        "\n",
        "\n",
        "# clf.fit(np.concatenate((animal_resp_v1[:400, :], geo_form_resp_v1[:100, :]), axis = 0 ), y)\n",
        "\n",
        "# clf_v1.fit( x_v1,y) \n",
        "# clf_v2.fit( x_v2,y) \n",
        "# clf_v3.fit( x_v3,y) \n",
        "# clf_v4.fit( x_v4,y) \n",
        "\n",
        "# clf_v1_all.fit(v1_train, y_train )\n",
        "# clf_v2_all.fit(v2_train, y_train )\n",
        "# clf_v3_all.fit(v3_train, y_train)\n",
        "# clf_v4_all.fit(v4_train, y_train)\n",
        "\n",
        "\n",
        "# print(\"v1 new train/test\", v1_train.shape, y_train.shape )\n",
        "# print(\"v2 new train/test\", v2_train.shape, y_train.shape )\n",
        "# print(\"v3 new train/test\", v3_train.shape, y_train.shape )\n",
        "# print(\"v4 new train/test\",v4_train.shape, y_train.shape )\n",
        "\n",
        "#################### last work\n",
        "from sklearn import svm\n",
        "\n",
        "# clf_an_ina = svm.SVC(class_weight='balanced', kernel= 'sigmoid')\n",
        "\n",
        "# clf_an_ina_v1 = svm.SVC(class_weight='balanced', kernel= 'sigmoid')\n",
        "# clf_an_ina_v2 = svm.SVC(class_weight='balanced',  kernel= 'sigmoid')\n",
        "# clf_an_ina_v3 = svm.SVC(class_weight='balanced',  kernel= 'sigmoid')\n",
        "# clf_an_ina_v3a = svm.SVC(class_weight='balanced',  kernel= 'sigmoid')\n",
        "# clf_an_ina_v3b = svm.SVC(class_weight='balanced', kernel= 'sigmoid')\n",
        "# clf_an_ina_v4 = svm.SVC(class_weight='balanced', kernel= 'sigmoid')\n",
        "# clf_an_ina_latoc = svm.SVC(class_weight='balanced', kernel= 'sigmoid')\n",
        "\n",
        "clf_an_ina = svm.SVC( kernel= 'linear')\n",
        "\n",
        "clf_an_ina_v1 = svm.SVC( kernel= 'linear')\n",
        "clf_an_ina_v2 = svm.SVC(  kernel= 'linear')\n",
        "clf_an_ina_v3 = svm.SVC(  kernel= 'linear')\n",
        "clf_an_ina_v3a = svm.SVC(  kernel= 'linear')\n",
        "clf_an_ina_v3b = svm.SVC( kernel= 'linear')\n",
        "clf_an_ina_v4 = svm.SVC( kernel= 'linear')\n",
        "clf_an_ina_latoc = svm.SVC(kernel= 'linear')\n",
        "\n",
        "# clf_an_ina.fit(dat[\"responses\"], new_categ_labels)\n",
        "\n",
        "# clf_an_ina_v1.fit(dat[\"responses\"][:, index_v1], new_categ_labels)\n",
        "# clf_an_ina_v2.fit(dat[\"responses\"][:, index_v2], new_categ_labels)\n",
        "# clf_an_ina_v3.fit(dat[\"responses\"][:, index_v3], new_categ_labels)\n",
        "# clf_an_ina_v3a.fit(dat[\"responses\"][:, index_v3a], new_categ_labels)\n",
        "# clf_an_ina_v3b.fit(dat[\"responses\"][:, index_v3b], new_categ_labels)\n",
        "# clf_an_ina_v4.fit(dat[\"responses\"][:, index_v4], new_categ_labels)\n",
        "# clf_an_ina_latoc.fit(dat[\"responses\"][:, index_latoc], new_categ_labels)\n",
        "\n",
        "clf_an_ina.fit(new_resp_tobalance, new_labels_tobalance)\n",
        "\n",
        "clf_an_ina_v1.fit(new_resp_tobalance[:, index_v1], new_labels_tobalance)\n",
        "clf_an_ina_v2.fit(new_resp_tobalance[:, index_v2], new_labels_tobalance)\n",
        "clf_an_ina_v3.fit(new_resp_tobalance[:, index_v3], new_labels_tobalance)\n",
        "clf_an_ina_v3a.fit(new_resp_tobalance[:, index_v3a], new_labels_tobalance)\n",
        "clf_an_ina_v3b.fit(new_resp_tobalance[:, index_v3b], new_labels_tobalance)\n",
        "clf_an_ina_v4.fit(new_resp_tobalance[:, index_v4], new_labels_tobalance)\n",
        "clf_an_ina_latoc.fit(new_resp_tobalance[:, index_latoc], new_labels_tobalance)\n"
      ]
    },
    {
      "cell_type": "code",
      "execution_count": null,
      "metadata": {
        "id": "Z6Hkd3Wd6_os"
      },
      "outputs": [],
      "source": [
        "# # Multi-Dimensional Discrimination\n",
        "\n",
        "# # clf_md = svm.SVC(decision_function_shape='ovo')\n",
        "# # clf_md.fit(dat[\"responses\"], labels[0, :])\n",
        "\n",
        "# # testt = clf_md.predict(dat[\"responses\"][0:5])\n",
        "# # print(testt)\n",
        "# v1_predd = clf_v1_all.predict(v1_test)\n",
        "# v2_predd = clf_v2_all.predict(v2_test)\n",
        "# v1_all_pred = clf_v1_all.predict(np.concatenate((dat[\"responses_test\"][:, index_v1], v1_test), axis=0 ))\n",
        "# v2_all_pred = clf_v2_all.predict(np.concatenate((dat[\"responses_test\"][:, index_v2], v2_test), axis=0 ))\n",
        "# v3_all_pred = clf_v3_all.predict(np.concatenate((dat[\"responses_test\"][:, index_v3], v3_test), axis=0 ))\n",
        "# v4_all_pred = clf_v4_all.predict(np.concatenate((dat[\"responses_test\"][:, index_v4], v4_test), axis=0 ))\n",
        "\n",
        "# print(np.sum(v1_all_pred==v4_all_pred))\n"
      ]
    },
    {
      "cell_type": "code",
      "execution_count": null,
      "metadata": {
        "id": "vleBIep4_Di4",
        "colab": {
          "base_uri": "https://localhost:8080/"
        },
        "outputId": "42a47e52-52fb-46e0-b1d9-e48ffd782c1c"
      },
      "outputs": [
        {
          "output_type": "stream",
          "name": "stdout",
          "text": [
            "[0 1 1 1 0 1 1 1 1 1 0 0 0 0 0 1 1 0 0 0 1 1 1 0 0 1 1 0 0 1 1 0 1 1 0 1 1\n",
            " 1 0 1 0 1 0 1 0 0 0 0 1 1 0 1 1 0 0 0 0 1 0 1 0 0 0 0 0 0 1 1 0 0 0 1 1 1\n",
            " 0 1 1 1 1 1 1 0 0 1 0 1 1 0 1 1 0 0 1 0 1 0 0 0 1 0 0 0 0 0 0 1 0 0 0 1 1\n",
            " 1 1 0 0 0 1 1 1 0]\n",
            "58 of 120 resposes relate to Animate category\n"
          ]
        }
      ],
      "source": [
        "# from sklearn.metrics import multilabel_confusion_matrix\n",
        "\n",
        "from sklearn.metrics import confusion_matrix\n",
        "\n",
        "\n",
        "new_test_labels = np.array(pd.read_csv(\"/content/new_test_labels.csv\",  index_col= 0))\n",
        "new_test_labels = np.reshape(new_test_labels, 120)\n",
        "print(new_test_labels)\n",
        "print((new_test_labels== 1).sum(), \"of 120 resposes relate to Animate category\")\n",
        "\n",
        "###################### test dataset balance\n",
        "\n",
        "# inanimate_only_testlabels = []\n",
        "\n",
        "# for i in range(len(new_test_labels)):\n",
        "#   if new_test_labels[i] == 0:\n",
        "#       inanimate_only_testlabels.append(i)\n",
        "\n",
        "# print(len(inanimate_only_testlabels))\n",
        "\n",
        "# random_inanimate_test_index = np.random.choice(inanimate_only_testlabels, 4, replace=False)\n",
        "\n",
        "# new_resp__test_tobalance = np.delete(dat2[\"responses_test\"],random_inanimate_test_index , axis=0)\n",
        "# new_labels_test_tobalance = np.delete(new_test_labels, random_inanimate_test_index , axis=0, )\n",
        "\n",
        "# print(\"new test responses to balance\",len(new_resp__test_tobalance))\n",
        "# print(\"new test labels to balance\",len(new_labels_test_tobalance))\n",
        "# print(\"New test Inanimate pictures indecies count\", (new_labels_test_tobalance==0).sum()) \n",
        "\n",
        "\n",
        "####################\n",
        "# an_ina_predict = clf_an_ina.predict(new_resp__test_tobalance)\n",
        "\n",
        "# an_ina_predict_v1 = clf_an_ina_v1.predict(new_resp__test_tobalance[:, index_v1])\n",
        "# an_ina_predict_v2 = clf_an_ina_v2.predict(new_resp__test_tobalance[:, index_v2])\n",
        "# an_ina_predict_v3 = clf_an_ina_v3.predict(new_resp__test_tobalance[:, index_v3])\n",
        "# an_ina_predict_v3a = clf_an_ina_v3a.predict(new_resp__test_tobalance[:, index_v3a])\n",
        "# an_ina_predict_v3b = clf_an_ina_v3b.predict(new_resp__test_tobalance[:, index_v3b])\n",
        "# an_ina_predict_v4 = clf_an_ina_v4.predict(new_resp__test_tobalance[:, index_v4])\n",
        "# an_ina_predict_latoc = clf_an_ina_latoc.predict(new_resp__test_tobalance[:, index_latoc])\n",
        "\n",
        "# cm_all = confusion_matrix(new_labels_test_tobalance, an_ina_predict )\n",
        "\n",
        "# cm_v1 = confusion_matrix(new_labels_test_tobalance, an_ina_predict_v1 )\n",
        "# cm_v2 = confusion_matrix(new_labels_test_tobalance, an_ina_predict_v2 )\n",
        "# cm_v3 = confusion_matrix(new_labels_test_tobalance, an_ina_predict_v3 )\n",
        "# cm_v3a = confusion_matrix(new_labels_test_tobalance, an_ina_predict_v3a )\n",
        "# cm_v3b = confusion_matrix(new_labels_test_tobalance, an_ina_predict_v3b )\n",
        "# cm_v4 = confusion_matrix(new_labels_test_tobalance, an_ina_predict_v4 )\n",
        "# cm_latoc = confusion_matrix(new_labels_test_tobalance, an_ina_predict_latoc )\n",
        "###################\n",
        "an_ina_predict = clf_an_ina.predict(dat[\"responses_test\"])\n",
        "\n",
        "an_ina_predict_v1 = clf_an_ina_v1.predict(dat[\"responses_test\"][:, index_v1])\n",
        "an_ina_predict_v2 = clf_an_ina_v2.predict(dat[\"responses_test\"][:, index_v2])\n",
        "an_ina_predict_v3 = clf_an_ina_v3.predict(dat[\"responses_test\"][:, index_v3])\n",
        "an_ina_predict_v3a = clf_an_ina_v3a.predict(dat[\"responses_test\"][:, index_v3a])\n",
        "an_ina_predict_v3b = clf_an_ina_v3b.predict(dat[\"responses_test\"][:, index_v3b])\n",
        "an_ina_predict_v4 = clf_an_ina_v4.predict(dat[\"responses_test\"][:, index_v4])\n",
        "an_ina_predict_latoc = clf_an_ina_latoc.predict(dat[\"responses_test\"][:, index_latoc])\n",
        "\n",
        "cm_all = confusion_matrix(new_test_labels, an_ina_predict )\n",
        "\n",
        "cm_v1 = confusion_matrix(new_test_labels, an_ina_predict_v1 )\n",
        "cm_v2 = confusion_matrix(new_test_labels, an_ina_predict_v2 )\n",
        "cm_v3 = confusion_matrix(new_test_labels, an_ina_predict_v3 )\n",
        "cm_v3a = confusion_matrix(new_test_labels, an_ina_predict_v3a )\n",
        "cm_v3b = confusion_matrix(new_test_labels, an_ina_predict_v3b )\n",
        "cm_v4 = confusion_matrix(new_test_labels, an_ina_predict_v4 )\n",
        "cm_latoc = confusion_matrix(new_test_labels, an_ina_predict_latoc )\n",
        "\n",
        "########################\n",
        "# testt = clf_md.predict(dat[\"responses\"][0:5])\n",
        "# print(testt)\n",
        "\n",
        "# multi_catg_predict = clf_md.predict(dat[\"responses_test\"])\n",
        "# print (multi_catg_predict.shape)\n",
        "\n",
        "# cm_all_old= multilabel_confusion_matrix(labels[0,:], multi_catg_predict)\n",
        "\n",
        "\n",
        "# cm_v1 = confusion_matrix(np.concatenate((val_labels[0], y_test), axis=0), v1_all_pred)\n",
        "# cm_v2 = confusion_matrix(np.concatenate((val_labels[0], y_test), axis=0), v2_all_pred)\n",
        "# cm_v3 = confusion_matrix(np.concatenate((val_labels[0], y_test), axis=0), v3_all_pred)\n",
        "# cm_v4 = confusion_matrix(np.concatenate((val_labels[0], y_test), axis=0), v4_all_pred)\n",
        "\n"
      ]
    },
    {
      "cell_type": "code",
      "execution_count": null,
      "metadata": {
        "id": "1jA_XlnLLxJ3",
        "colab": {
          "base_uri": "https://localhost:8080/",
          "height": 1000
        },
        "outputId": "9181f5a7-39d2-4b67-83f0-d68192cd57c1"
      },
      "outputs": [
        {
          "output_type": "stream",
          "name": "stdout",
          "text": [
            "accuracies from v1 to v4 then LatOcc accuracy and Overall accuracy, respectively \n",
            " 51.66666666666667 62.5 70.83333333333334 78.33333333333333 75.0 77.5 79.16666666666666 81.66666666666667\n",
            "F1-scores from v1 to v4 then LatOcc accuracy and Overall accuracy, respectively \n",
            " 25.641025641025646 49.43820224719101 71.07438016528927 76.78571428571429 72.22222222222223 75.67567567567566 77.06422018348623 79.24528301886792\n"
          ]
        },
        {
          "output_type": "execute_result",
          "data": {
            "text/plain": [
              "(20.0, 100.0)"
            ]
          },
          "metadata": {},
          "execution_count": 25
        },
        {
          "output_type": "display_data",
          "data": {
            "text/plain": [
              "<Figure size 360x360 with 2 Axes>"
            ],
            "image/png": "[encoded data removed]"
          },
          "metadata": {
            "needs_background": "light"
          }
        },
        {
          "output_type": "display_data",
          "data": {
            "text/plain": [
              "<Figure size 360x360 with 2 Axes>"
            ],
            "image/png": "[encoded data removed]"
          },
          "metadata": {
            "needs_background": "light"
          }
        },
        {
          "output_type": "display_data",
          "data": {
            "text/plain": [
              "<Figure size 360x360 with 2 Axes>"
            ],
            "image/png": "[encoded data removed]"
          },
          "metadata": {
            "needs_background": "light"
          }
        },
        {
          "output_type": "display_data",
          "data": {
            "text/plain": [
              "<Figure size 360x360 with 2 Axes>"
            ],
            "image/png": "[encoded data removed]"
          },
          "metadata": {
            "needs_background": "light"
          }
        },
        {
          "output_type": "display_data",
          "data": {
            "text/plain": [
              "<Figure size 360x360 with 2 Axes>"
            ],
            "image/png": "[encoded data removed]"
          },
          "metadata": {
            "needs_background": "light"
          }
        },
        {
          "output_type": "display_data",
          "data": {
            "text/plain": [
              "<Figure size 360x360 with 2 Axes>"
            ],
            "image/png": "[encoded data removed]"
          },
          "metadata": {
            "needs_background": "light"
          }
        },
        {
          "output_type": "display_data",
          "data": {
            "text/plain": [
              "<Figure size 360x360 with 2 Axes>"
            ],
            "image/png": "[encoded data removed]"
          },
          "metadata": {
            "needs_background": "light"
          }
        },
        {
          "output_type": "display_data",
          "data": {
            "text/plain": [
              "<Figure size 360x360 with 2 Axes>"
            ],
            "image/png": "[encoded data removed]"
          },
          "metadata": {
            "needs_background": "light"
          }
        },
        {
          "output_type": "display_data",
          "data": {
            "text/plain": [
              "<Figure size 360x360 with 1 Axes>"
            ],
            "image/png": "[encoded data removed]"
          },
          "metadata": {
            "needs_background": "light"
          }
        },
        {
          "output_type": "display_data",
          "data": {
            "text/plain": [
              "<Figure size 360x360 with 1 Axes>"
            ],
            "image/png": "[encoded data removed]"
          },
          "metadata": {
            "needs_background": "light"
          }
        }
      ],
      "source": [
        "\n",
        "import seaborn as sns\n",
        "from sklearn.metrics import confusion_matrix\n",
        "from sklearn.metrics import accuracy_score\n",
        "from sklearn.metrics import f1_score\n",
        "\n",
        "#################### Radical balance results\n",
        "\n",
        "# acc_all = accuracy_score(new_labels_test_tobalance, an_ina_predict) *100\n",
        "\n",
        "# acc_v1 = accuracy_score(new_labels_test_tobalance, an_ina_predict_v1) *100\n",
        "# acc_v2 = accuracy_score(new_labels_test_tobalance, an_ina_predict_v2) *100\n",
        "# acc_v3 = accuracy_score(new_labels_test_tobalance, an_ina_predict_v3) *100\n",
        "# acc_v3a = accuracy_score(new_labels_test_tobalance, an_ina_predict_v3a) *100\n",
        "# acc_v3b = accuracy_score(new_labels_test_tobalance, an_ina_predict_v3b) *100\n",
        "# acc_v4 = accuracy_score(new_labels_test_tobalance, an_ina_predict_v4) *100\n",
        "# acc_latoc = accuracy_score(new_labels_test_tobalance, an_ina_predict_latoc) *100\n",
        "\n",
        "# fscore_all = f1_score(new_labels_test_tobalance, an_ina_predict) *100\n",
        "\n",
        "# fscore_v1 = f1_score(new_labels_test_tobalance, an_ina_predict_v1) *100\n",
        "# fscore_v2 = f1_score(new_labels_test_tobalance, an_ina_predict_v2) *100\n",
        "# fscore_v3 = f1_score(new_labels_test_tobalance, an_ina_predict_v3) *100\n",
        "# fscore_v3a = f1_score(new_labels_test_tobalance, an_ina_predict_v3a) *100\n",
        "# fscore_v3b = f1_score(new_labels_test_tobalance, an_ina_predict_v3b) *100\n",
        "# fscore_v4 = f1_score(new_labels_test_tobalance, an_ina_predict_v4) *100\n",
        "# fscore_latoc = f1_score(new_labels_test_tobalance, an_ina_predict_latoc) *100\n",
        "\n",
        "#####################\n",
        "\n",
        "acc_all = accuracy_score(new_test_labels, an_ina_predict) *100\n",
        "\n",
        "acc_v1 = accuracy_score(new_test_labels, an_ina_predict_v1) *100\n",
        "acc_v2 = accuracy_score(new_test_labels, an_ina_predict_v2) *100\n",
        "acc_v3 = accuracy_score(new_test_labels, an_ina_predict_v3) *100\n",
        "acc_v3a = accuracy_score(new_test_labels, an_ina_predict_v3a) *100\n",
        "acc_v3b = accuracy_score(new_test_labels, an_ina_predict_v3b) *100\n",
        "acc_v4 = accuracy_score(new_test_labels, an_ina_predict_v4) *100\n",
        "acc_latoc = accuracy_score(new_test_labels, an_ina_predict_latoc) *100\n",
        "\n",
        "fscore_all = f1_score(new_test_labels, an_ina_predict) *100\n",
        "\n",
        "fscore_v1 = f1_score(new_test_labels, an_ina_predict_v1) *100\n",
        "fscore_v2 = f1_score(new_test_labels, an_ina_predict_v2) *100\n",
        "fscore_v3 = f1_score(new_test_labels, an_ina_predict_v3) *100\n",
        "fscore_v3a = f1_score(new_test_labels, an_ina_predict_v3a) *100\n",
        "fscore_v3b = f1_score(new_test_labels, an_ina_predict_v3b) *100\n",
        "fscore_v4 = f1_score(new_test_labels, an_ina_predict_v4) *100\n",
        "fscore_latoc = f1_score(new_test_labels, an_ina_predict_latoc) *100\n",
        "\n",
        "\n",
        "\n",
        "print(\"accuracies from v1 to v4 then LatOcc accuracy and Overall accuracy, respectively\",\"\\n\",acc_v1, acc_v2, acc_v3,acc_v3a, acc_v3b, acc_v4,acc_latoc, acc_all )\n",
        "\n",
        "print(\"F1-scores from v1 to v4 then LatOcc accuracy and Overall accuracy, respectively\",\"\\n\",fscore_v1, fscore_v2, fscore_v3,fscore_v3a, fscore_v3b, fscore_v4,fscore_latoc, fscore_all )\n",
        "\n",
        "#Plot confusion matrix in a beautiful manner\n",
        "\n",
        "                       \n",
        "fig = plt.figure(figsize=(5, 5))\n",
        "ax= plt.subplot()\n",
        "sns.heatmap(cm_all, annot=True, fmt = 'g', cmap=\"Blues\"); #annot=True to annotate cells\n",
        "ax.set_xlabel('Predicted', fontsize=15)\n",
        "ax.xaxis.set_label_position('bottom')\n",
        "plt.xticks(rotation=0)\n",
        "ax.xaxis.tick_bottom()\n",
        "ax.set_ylabel('True', fontsize=15)\n",
        "plt.yticks(rotation=90)\n",
        "ax.xaxis.set_ticklabels(['Inanimate', 'Animate']); ax.yaxis.set_ticklabels(['Inanimate', 'Animate']);\n",
        "plt.title('Overall Confusion Matrix', fontsize=15)\n",
        "\n",
        "\n",
        "fig = plt.figure(figsize=(5, 5))\n",
        "ax= plt.subplot()\n",
        "sns.heatmap(cm_v1, annot=True, fmt = 'g', cmap=\"Blues\"); #annot=True to annotate cells\n",
        "ax.set_xlabel('Predicted', fontsize=15)\n",
        "ax.xaxis.set_label_position('bottom')\n",
        "plt.xticks(rotation=0)\n",
        "ax.xaxis.tick_bottom()\n",
        "ax.set_ylabel('True', fontsize=15)\n",
        "plt.yticks(rotation=90)\n",
        "ax.xaxis.set_ticklabels(['Inanimate', 'Animate']); ax.yaxis.set_ticklabels(['Inanimate', 'Animate'])\n",
        "plt.title('V1 Confusion Matrix', fontsize=15)\n",
        "\n",
        "fig = plt.figure(figsize=(5, 5))\n",
        "ax= plt.subplot()\n",
        "sns.heatmap(cm_v2, annot=True, fmt = 'g', cmap=\"Blues\"); #annot=True to annotate cells\n",
        "ax.set_xlabel('Predicted', fontsize=15)\n",
        "ax.xaxis.set_label_position('bottom')\n",
        "plt.xticks(rotation=0)\n",
        "ax.xaxis.tick_bottom()\n",
        "ax.set_ylabel('True', fontsize=15)\n",
        "plt.yticks(rotation=90)\n",
        "ax.xaxis.set_ticklabels(['Inanimate', 'Animate']); ax.yaxis.set_ticklabels(['Inanimate', 'Animate'])\n",
        "plt.title('V2 Confusion Matrix', fontsize=15)\n",
        "\n",
        "fig = plt.figure(figsize=(5, 5))\n",
        "ax= plt.subplot()\n",
        "sns.heatmap(cm_v3, annot=True, fmt = 'g', cmap=\"Blues\"); #annot=True to annotate cells\n",
        "ax.set_xlabel('Predicted', fontsize=15)\n",
        "ax.xaxis.set_label_position('bottom')\n",
        "plt.xticks(rotation=0)\n",
        "ax.xaxis.tick_bottom()\n",
        "ax.set_ylabel('True', fontsize=15)\n",
        "plt.yticks(rotation=90)\n",
        "ax.xaxis.set_ticklabels(['Inanimate', 'Animate']); ax.yaxis.set_ticklabels(['Inanimate', 'Animate'])\n",
        "plt.title('V3 Confusion Matrix', fontsize=15)\n",
        "\n",
        "fig = plt.figure(figsize=(5, 5))\n",
        "ax= plt.subplot()\n",
        "sns.heatmap(cm_v3a, annot=True, fmt = 'g', cmap=\"Blues\"); #annot=True to annotate cells\n",
        "ax.set_xlabel('Predicted', fontsize=15)\n",
        "ax.xaxis.set_label_position('bottom')\n",
        "plt.xticks(rotation=0)\n",
        "ax.xaxis.tick_bottom()\n",
        "ax.set_ylabel('True', fontsize=15)\n",
        "plt.yticks(rotation=90)\n",
        "ax.xaxis.set_ticklabels(['Inanimate', 'Animate']); ax.yaxis.set_ticklabels(['Inanimate', 'Animate'])\n",
        "plt.title('V3A Confusion Matrix', fontsize=15)\n",
        "\n",
        "fig = plt.figure(figsize=(5, 5))\n",
        "ax= plt.subplot()\n",
        "sns.heatmap(cm_v3b, annot=True, fmt = 'g', cmap=\"Blues\"); #annot=True to annotate cells\n",
        "ax.set_xlabel('Predicted', fontsize=15)\n",
        "ax.xaxis.set_label_position('bottom')\n",
        "plt.xticks(rotation=0)\n",
        "ax.xaxis.tick_bottom()\n",
        "ax.set_ylabel('True', fontsize=15)\n",
        "plt.yticks(rotation=90)\n",
        "ax.xaxis.set_ticklabels(['Inanimate', 'Animate']); ax.yaxis.set_ticklabels(['Inanimate', 'Animate'])\n",
        "plt.title('V3B Confusion Matrix', fontsize=15)\n",
        "\n",
        "fig = plt.figure(figsize=(5, 5))\n",
        "ax= plt.subplot()\n",
        "sns.heatmap(cm_v4, annot=True, fmt = 'g', cmap=\"Blues\"); #annot=True to annotate cells\n",
        "ax.set_xlabel('Predicted', fontsize=15)\n",
        "ax.xaxis.set_label_position('bottom')\n",
        "plt.xticks(rotation=0)\n",
        "ax.xaxis.tick_bottom()\n",
        "ax.set_ylabel('True', fontsize=15)\n",
        "plt.yticks(rotation=90)\n",
        "ax.xaxis.set_ticklabels(['Inanimate', 'Animate']); ax.yaxis.set_ticklabels(['Inanimate', 'Animate'])\n",
        "plt.title('V4 Confusion Matrix', fontsize=15)\n",
        "\n",
        "fig = plt.figure(figsize=(5, 5))\n",
        "ax= plt.subplot()\n",
        "sns.heatmap(cm_latoc, annot=True, fmt = 'g', cmap=\"Blues\"); #annot=True to annotate cells\n",
        "ax.set_xlabel('Predicted', fontsize=15)\n",
        "ax.xaxis.set_label_position('bottom')\n",
        "plt.xticks(rotation=0)\n",
        "ax.xaxis.tick_bottom()\n",
        "ax.set_ylabel('True', fontsize=15)\n",
        "plt.yticks(rotation=90)\n",
        "ax.xaxis.set_ticklabels(['Inanimate', 'Animate']); ax.yaxis.set_ticklabels(['Inanimate', 'Animate'])\n",
        "plt.title('LatOcc Confusion Matrix', fontsize=15)\n",
        "\n",
        "# lit review v3a and latocc.\n",
        "\n",
        "# get F1 score\n",
        "\n",
        "# result of imbalanced data, sigmoid kernel\n",
        "#V1: 57.5, V2: 59.17, V3: 73.3, V3A: 81.7, V3B: 77.5, V4: 75.8, LatOcc: 82.5, Overall: 77.5.\n",
        "#F1-scores. V1:  42.7, V2: 44.9, V3: 72.4, V3A: 81.4, V3B: 75.7, V4: 74.3, LatOcc: 80.4, Overall: 73.8.\n",
        "\n",
        "fig = plt.figure(figsize=(5, 5))\n",
        "ax= plt.subplot()\n",
        "ax.set_xlabel('Regions Of Interest', fontsize=10)\n",
        "ax.set_ylabel('Accuracy starting from 50% limit', fontsize=10)\n",
        "plt.title('Discrimination Accuracies', fontsize=14)\n",
        "plt.bar(['v1', 'v2', 'v3', 'v3A', 'v3B', 'v4', 'LatOcc'],[acc_v1, acc_v2, acc_v3,acc_v3a, acc_v3b, acc_v4,acc_latoc] )\n",
        "plt.ylim(50, 100)\n",
        "\n",
        "\n",
        "fig = plt.figure(figsize=(5, 5))\n",
        "ax= plt.subplot()\n",
        "ax.set_xlabel('Regions Of Interest', fontsize=10)\n",
        "ax.set_ylabel('F1-Scores starting from 20% limit', fontsize=10)\n",
        "plt.title('F1-Scores of Regional Discrimination', fontsize=14)\n",
        "plt.bar(['v1', 'v2', 'v3', 'v3A', 'v3B', 'v4', 'LatOcc'],[fscore_v1, fscore_v2, fscore_v3,fscore_v3a, fscore_v3b, fscore_v4,fscore_latoc] )\n",
        "plt.ylim(20, 100)\n",
        "\n",
        "\n",
        "# interpretation\n",
        "# which brain regions are better in discriminating animate and inanimate categories?\n",
        "# the debate is, is selectivity recognition or discrimination? (relating this to kirsten opinion on selectivity as power in brain regions)\n",
        "\n",
        "# T test for further investigations "
      ]
    },
    {
      "cell_type": "code",
      "source": [
        "# from scipy import stats\n",
        "# means_v3a = np.average(dat[\"responses\"][:,index_v3a],axis=1)\n",
        "# std_v3a = np.std(dat[\"responses\"][:,index_v3a],axis=1)\n",
        "# means_v1 = np.average(dat[\"responses\"][:,index_v1],axis=1)\n",
        "# std_v1 = np.std(dat[\"responses\"][:,index_v1],axis=1)\n",
        "\n",
        "# print(np.mean(means_v3a))\n",
        "# print(std_v3a)\n",
        "\n",
        "# t_test_v3a_v1 = stats.ttest_ind_from_stats(np.mean(means_v3a), np.mean(std_v3a),1750, np.mean(means_v1),np.mean(std_v1), 1750)\n",
        "# print(t_test_v3a_v1)\n"
      ],
      "metadata": {
        "id": "TjyNF5GAqVpO",
        "colab": {
          "base_uri": "https://localhost:8080/"
        },
        "outputId": "ecefa620-533b-493a-8a4f-25c400951054"
      },
      "execution_count": null,
      "outputs": [
        {
          "output_type": "stream",
          "name": "stdout",
          "text": [
            "1.801733365677397e-17\n"
          ]
        }
      ]
    },
    {
      "cell_type": "code",
      "execution_count": null,
      "metadata": {
        "id": "v0fqJgfmU3p5"
      },
      "outputs": [],
      "source": [
        "# from numpy.lib.function_base import average\n",
        "\n",
        "# # gte the model trained for all the dataset then tested on each category in each region and get the confusion matrices.\n",
        "\n",
        "# def avg(a, b):\n",
        "#   return (a+b)/2\n",
        "\n",
        "# x_test = np.concatenate((animal_resp[400:len(animal_resp), :], geo_form_resp[100:len(geo_form_resp), :]), axis = 0 )\n",
        "\n",
        "# x_test_animal = animal_resp[400:len(animal_resp)]\n",
        "# x_test_geo = geo_form_resp[100:len(geo_form_resp_v1)]\n",
        "\n",
        "\n",
        "# x_test_v1 = np.concatenate((animal_resp_v1[400:len(animal_resp_v1), :], geo_form_resp_v1[100:len(geo_form_resp_v1), :]), axis = 0 )\n",
        "\n",
        "# x_test_animal_v1 = animal_resp_v1[400:len(animal_resp_v1)]\n",
        "# x_test_geo_v1 = geo_form_resp_v1[100:len(geo_form_resp_v1)]\n",
        "\n",
        "# x_test_animal_v2 = animal_resp_v2[400:len(animal_resp_v2)]\n",
        "# x_test_geo_v2 = geo_form_resp_v2[100:len(geo_form_resp_v2)]\n",
        "\n",
        "# x_test_animal_v3 = animal_resp_v3[400:len(animal_resp_v3)]\n",
        "# x_test_geo_v3 = geo_form_resp_v3[100:len(geo_form_resp_v3)]\n",
        "\n",
        "# x_test_animal_v4 = animal_resp_v4[400:len(animal_resp_v4)]\n",
        "# x_test_geo_v4 = geo_form_resp_v4[100:len(geo_form_resp_v4)]\n",
        "\n",
        "\n",
        "# # history = clf.predict(np.concatenate((animal_resp_v1[:400, :], geo_form_resp_v1[:100, :]), axis = 0 ))\n",
        "\n",
        "# # histor_v1 = clf_v1.predict(x_test_v1)\n",
        "\n",
        "# histor_v1_anim = clf_v1.predict(x_test_animal_v1)\n",
        "# histor_v1_geo = clf_v1.predict(x_test_geo_v1)\n",
        "\n",
        "# histor_v2_anim = clf_v2.predict(x_test_animal_v2)\n",
        "# histor_v2_geo = clf_v2.predict(x_test_geo_v2)\n",
        "\n",
        "# histor_v3_anim = clf_v3.predict(x_test_animal_v3)\n",
        "# histor_v3_geo = clf_v3.predict(x_test_geo_v3)\n",
        "\n",
        "# histor_v4_anim = clf_v4.predict(x_test_animal_v4)\n",
        "# histor_v4_geo = clf_v4.predict(x_test_geo_v4)\n",
        "\n",
        "\n",
        "\n",
        "# # classification accuracy is meant to represent the selectivity of a region\n",
        "\n",
        "# # acc_anim_v1_new = (history == 1).sum()/ len(history)\n",
        "# # acc_geo_v1_new = (history == 0).sum()/ len(history)\n",
        "# # avg_v1_new = avg(acc_anim_v1_new,acc_geo_v1_new )\n",
        "# # print(\"NEW\",acc_anim_v1_new, acc_geo_v1_new , avg_v1_new )\n",
        "\n",
        "\n",
        "# acc_anim_v1 = (histor_v1_anim == 1).sum()/ len(x_test_animal_v1)\n",
        "# acc_geo_v1 = (histor_v1_geo == 0).sum()/ len(x_test_geo_v1)\n",
        "# avg_v1 = avg(acc_anim_v1,acc_geo_v1 )\n",
        "\n",
        "# acc_anim_v2 = (histor_v2_anim == 1).sum()/ len(x_test_animal_v2)\n",
        "# acc_geo_v2 = (histor_v2_geo == 0).sum()/ len(x_test_geo_v2)\n",
        "# avg_v2 = avg(acc_anim_v2,acc_geo_v2 )\n",
        "\n",
        "# acc_anim_v3 = (histor_v3_anim == 1).sum()/ len(x_test_animal_v3)\n",
        "# acc_geo_v3 = (histor_v3_geo == 0).sum()/ len(x_test_geo_v3)\n",
        "# avg_v3 = avg(acc_anim_v3,acc_geo_v3 )\n",
        "\n",
        "# acc_anim_v4 = (histor_v4_anim == 1).sum()/ len(x_test_animal_v4)\n",
        "# acc_geo_v4 = (histor_v4_geo == 0).sum()/ len(x_test_geo_v4)\n",
        "# avg_v4 = avg(acc_anim_v4,acc_geo_v4 )\n",
        "\n",
        "\n",
        "# plt.rcParams[\"figure.figsize\"] = [10, 10]\n",
        "# # plt.xlabel(\"Regions From V1 to V4\")\n",
        "# # plt.ylabel(\"Average Accuracy of Animate-Inabimate classification\")\n",
        "\n",
        "# # plt.plot((1,2,3,4),(avg_v1, avg_v2, avg_v3,avg_v4))\n",
        "# # plt.show()\n",
        "\n",
        "# plt.xlabel(\"Regions From V1 to V4\")\n",
        "# plt.ylabel(\"Average Accuracy of Animate-Inabimate classification\")\n",
        "# plt.bar(('V1','V2','V3','V4'), (avg_v1, avg_v2, avg_v3,avg_v4) , width=0.5 )\n",
        "# plt.show()\n",
        "\n",
        "# plt.xlabel(\"Regions From V1 to V4\")\n",
        "# plt.ylabel(\"Average Accuracy of Animate classification\")\n",
        "# plt.bar(('V1','V2','V3','V4'), (acc_anim_v1, acc_anim_v2, acc_anim_v3,acc_anim_v4) , width=0.5 )\n",
        "# plt.show()\n",
        "\n",
        "# plt.xlabel(\"Regions From V1 to V4\")\n",
        "# plt.ylabel(\"Average Accuracy of Inanimate classification\")\n",
        "# plt.bar(('V1','V2','V3','V4'), (acc_geo_v1, acc_geo_v2, acc_geo_v3,acc_geo_v4) , width=0.5 )\n",
        "# plt.show()\n",
        "\n",
        "# print( \"accuracies of animate, inanimate in v1, v2, v3, v4, average of each region. Respectively\", \"\\n\",acc_anim_v1,  acc_geo_v1,avg_v1,\"\\n\", acc_anim_v2, acc_geo_v2,avg_v2,\n",
        "#       \"\\n\", acc_anim_v3, acc_geo_v3,avg_v3,\"\\n\", acc_anim_v4, acc_geo_v4, avg_v4 )"
      ]
    },
    {
      "cell_type": "code",
      "execution_count": null,
      "metadata": {
        "id": "9WYJaEV0oAhp"
      },
      "outputs": [],
      "source": [
        "# print(dat[\"responses\"].shape)\n",
        "# print(dat[\"responses\"][0])\n",
        "\n",
        "# arr_resp= dat[\"responses\"][0].flatten() #convert ndarray(from the dictionary) to array\n",
        "# print(arr_resp)\n",
        "\n",
        "# print(dat[\"roi_names\"][dat[\"roi\"][result[0]]])\n",
        "\n",
        "# import matplotlib.pylab as plt\n",
        "# plt.rcParams[\"figure.figsize\"] = [30, 10]\n",
        "# plt.plot(response_for1)\n",
        "# plt.show()"
      ]
    },
    {
      "cell_type": "markdown",
      "metadata": {
        "id": "v_Ur3JAloAhq"
      },
      "source": [
        "This is the number of voxels in each ROI. Note that `\"Other\"` voxels have been removed from this version of the dataset:"
      ]
    },
    {
      "cell_type": "code",
      "execution_count": null,
      "metadata": {
        "id": "yHuJfbM-oAhq"
      },
      "outputs": [],
      "source": [
        "dict(zip(dat[\"roi_names\"], np.bincount(dat[\"roi\"])))"
      ]
    },
    {
      "cell_type": "markdown",
      "metadata": {
        "id": "hv05RDL2oAhr"
      },
      "source": [
        "Each stimulus is a 128 x 128 grayscale array:"
      ]
    },
    {
      "cell_type": "code",
      "execution_count": null,
      "metadata": {
        "id": "WYC2pQeToAhr"
      },
      "outputs": [],
      "source": [
        "# import cv2\n",
        "# import copy as cp\n",
        "\n",
        "# new_labels = np.load('kay_labels.npy')\n",
        "# new_labels = new_labels[0]\n",
        "\n",
        "# def label_show(show):\n",
        "\n",
        "#         fig, axs = plt.subplots( figsize=(12, 6))\n",
        "#         axs.imshow(dat[\"stimuli\"][show,:], cmap=\"gray\")\n",
        "#         axs.set_title(labels[0][show])\n",
        "#         fig.tight_layout()\n",
        "#         fig.show()\n",
        "\n",
        "# def new_label(old_label, new_label):\n",
        "#      new_labels[old_label] = new_label\n",
        "\n",
        "\n",
        "# def new_label_show(show):\n",
        "#         fig, axs = plt.subplots(  figsize=(12, 6))\n",
        "#         axs.imshow(dat[\"stimuli\"][show,:], cmap=\"gray\")\n",
        "#         axs.set_title(new_labels[show])\n",
        "#         fig.tight_layout()\n",
        "#         fig.show()\n",
        "\n",
        "\n"
      ]
    },
    {
      "cell_type": "code",
      "execution_count": null,
      "metadata": {
        "id": "xbBpCF8MNI14"
      },
      "outputs": [],
      "source": [
        "# # RULE:\n",
        "# # anything other than humans and animals are inanimate.\n",
        "\n",
        "# # ziad index: 0 - 440\n",
        "# # yasmine index: 441 - 880\n",
        "# # esraa index: 881 - 1320\n",
        "# # amira index: 1321 - 1750\n",
        "\n",
        "# ######################################## HERE YOU WILL WORK ON RELABELING\n",
        "\n",
        "# index_to_show = 1321\n",
        "# value_of_new_label = 0 # zero or one. zero for Inanimate and one for Animate\n",
        "\n",
        "# #########################\n",
        "\n",
        "# label_show(index_to_show) # insert the image index that you want to see its label. NOTE: index starts from zero\n",
        "\n",
        "# new_label(index_to_show, value_of_new_label) # convert old label index to the new label. zero for Inanimate and one for Animate\n",
        "\n",
        "# new_label_show(index_to_show)\n",
        "\n",
        "# ################# save in a file, download it every few relabeling task\n",
        "\n",
        "# pd.DataFrame(new_labels).to_csv(\"/content/new_labels.csv\")\n",
        "\n",
        "# print(new_labels[index_to_show])"
      ]
    },
    {
      "cell_type": "code",
      "source": [
        "# import cv2\n",
        "# import copy as cp\n",
        "\n",
        "# new_test_labels = np.load('kay_labels_val.npy')\n",
        "# new_test_labels = new_test_labels[0]\n",
        "\n",
        "# def label_show(show):\n",
        "\n",
        "#         fig, axs = plt.subplots(  figsize=(12, 6))\n",
        "#         axs.imshow(dat[\"stimuli_test\"][show,:], cmap=\"gray\")\n",
        "#         axs.set_title(val_labels[0][show])\n",
        "#         fig.tight_layout()\n",
        "#         fig.show()\n",
        "\n",
        "# def new_label(old_label, new_label):\n",
        "#      new_test_labels[old_label] = new_label\n",
        "\n",
        "\n",
        "# def new_label_show(show):\n",
        "#         fig, axs = plt.subplots(  figsize=(12, 6))\n",
        "#         axs.imshow(dat[\"stimuli_test\"][show,:], cmap=\"gray\")\n",
        "#         axs.set_title(new_test_labels[show])\n",
        "#         fig.tight_layout()\n",
        "#         fig.show()\n"
      ],
      "metadata": {
        "id": "na96bJrUdhOa"
      },
      "execution_count": null,
      "outputs": []
    },
    {
      "cell_type": "code",
      "source": [
        "# # RULE:\n",
        "# # anything other than humans and animals are inanimate.\n",
        "\n",
        "# # Test dataset index: 0- 120 \n",
        "\n",
        "# ######################################## HERE YOU WILL WORK ON RELABELING\n",
        "\n",
        "# index_to_show = 1\n",
        "# value_of_new_label = 1 # zero or one. zero for Inanimate and one for Animate\n",
        "\n",
        "# #########################\n",
        "\n",
        "# label_show(index_to_show) # insert the image index that you want to see its label. NOTE: index starts from zero\n",
        "\n",
        "# new_label(index_to_show, value_of_new_label) # convert old label index to the new label. zero for Inanimate and one for Animate\n",
        "\n",
        "# new_label_show(index_to_show)\n",
        "\n",
        "# ################# save in a file, download it every few relabeling task\n",
        "\n",
        "# pd.DataFrame(new_test_labels).to_csv(\"/content/new_test_labels.csv\")\n",
        "\n",
        "# print(new_test_labels[index_to_show])"
      ],
      "metadata": {
        "id": "BCHcXSF6e0qj"
      },
      "execution_count": null,
      "outputs": []
    },
    {
      "cell_type": "markdown",
      "metadata": {
        "id": "0Ng-8dXUoAhr"
      },
      "source": [
        "Each stimulus is associated with a pattern of BOLD response across voxels in visual cortex:"
      ]
    },
    {
      "cell_type": "code",
      "execution_count": null,
      "metadata": {
        "id": "qu6eT2X2xt70"
      },
      "outputs": [],
      "source": [
        "\n",
        "# from skimage.io import imread, imshow\n",
        "# from skimage.color import rgb2hsv, rgb2gray, rgb2yuv\n",
        "# from skimage import color, exposure, transform\n",
        "# from skimage.exposure import equalize_hist\n",
        "\n",
        "\n",
        "# sf_image = (np.fft.fft2(dat[\"stimuli\"])) # We removed the np.fft.fftshift (here was the syntax of fft2)\n",
        "# print(sf_image.shape)\n",
        "\n",
        "\n",
        "# fig, axs = plt.subplots(4, 9,  figsize=(12, 6), sharex=True, sharey=True)\n",
        "# for ax, im, lbl in zip(axs.flat, np.log(abs(sf_image)), labels[0, :]):\n",
        "#   ax.imshow(im, cmap=\"gray\")\n",
        "#   ax.set_title(lbl)\n",
        "\n",
        "# fig.tight_layout()\n",
        "# fig.show()\n",
        "\n",
        "\n",
        "######################## extract the features of brightness and contrast from spatial frequency images\n",
        "# brightness = []\n",
        "# contrast = []\n",
        "\n",
        "# for image in range(len(sf_image)):\n",
        "\n",
        "#   brightness.append(np.average(np.log(abs(sf_image[image]))))\n",
        "#   contrast.append(np.std(sf_image[image])) \n",
        "\n",
        "\n",
        "# print(\"shape of brightness and contrast lists, respectively:\",len(brightness),\"    \" ,len(contrast)) # each shape must be 1750 (all images)\n",
        "\n",
        "##########################\n",
        "\n",
        "# plt.figure(num=None, figsize=(8, 6), dpi=80)\n",
        "# plt.imshow(np.log(abs(sf_image)), cmap='gray'); \n",
        "\n",
        "\n",
        "# what we know, what we expect, how to tests it.\n",
        "\n",
        "# make predictions clearer\n",
        "# how many classes are we intrested in, what classes? and why those classes?\n",
        "\n",
        "# Why do we expect there is gonna be a difference in these classes? the ans is img features\n",
        "\n",
        "# for image features\n",
        "# brightnes (mean of pixels ), contrast (stand dev of img), orientation, spatial freq\n",
        "\n",
        "# removing the human (labels) from the loop by looking at image features vs responses. "
      ]
    },
    {
      "cell_type": "code",
      "execution_count": null,
      "metadata": {
        "id": "g_VQsBjioAhs"
      },
      "outputs": [],
      "source": [
        "# fig, ax = plt.subplots(figsize=(12, 5))\n",
        "# ax.set(xlabel=\"Voxel\", ylabel=\"Stimulus\")\n",
        "# heatmap = ax.imshow(response_for1,\n",
        "#                     aspect=\"auto\", vmin=0, vmax=1, cmap=\"bwr\")\n",
        "# fig.colorbar(heatmap, shrink=.5, label=\"Response amplitude (Z)\")\n",
        "# fig.tight_layout()\n",
        "# fig.show()"
      ]
    },
    {
      "cell_type": "markdown",
      "metadata": {
        "id": "1jZx7fmLoAhs"
      },
      "source": [
        "The training/validation splits from the original paper are retained, so the 120 test stimuli and responses are in separate data structures:"
      ]
    },
    {
      "cell_type": "code",
      "execution_count": null,
      "metadata": {
        "id": "OOz1AXGcoAht"
      },
      "outputs": [],
      "source": [
        "# fig, ax = plt.subplots(figsize=(12, 2.5))\n",
        "# ax.set(xlabel=\"Voxel\", ylabel=\"Test Stimulus\")\n",
        "\n",
        "# heatmap = ax.imshow(dat[\"responses_test\"],\n",
        "#                     aspect=\"auto\", vmin=-1, vmax=1, cmap=\"bwr\")\n",
        "# fig.colorbar(heatmap, shrink=.75, label=\"Response amplitude (Z)\")\n",
        "# fig.tight_layout()\n",
        "# fig.show()"
      ]
    }
  ],
  "metadata": {
    "colab": {
      "collapsed_sections": [],
      "name": "Copy of load_kay_images",
      "provenance": [],
      "include_colab_link": true
    },
    "kernel": {
      "display_name": "Python 3",
      "language": "python",
      "name": "python3"
    },
    "kernelspec": {
      "display_name": "Python 3",
      "name": "python3"
    },
    "language_info": {
      "name": "python"
    }
  },
  "nbformat": 4,
  "nbformat_minor": 0
}